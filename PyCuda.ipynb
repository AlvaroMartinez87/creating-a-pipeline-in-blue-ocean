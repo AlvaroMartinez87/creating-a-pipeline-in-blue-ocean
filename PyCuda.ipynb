{
  "nbformat": 4,
  "nbformat_minor": 0,
  "metadata": {
    "colab": {
      "name": "PyCuda.ipynb",
      "provenance": [],
      "collapsed_sections": [],
      "include_colab_link": true
    },
    "kernelspec": {
      "name": "python3",
      "display_name": "Python 3"
    },
    "language_info": {
      "name": "python"
    },
    "accelerator": "GPU"
  },
  "cells": [
    {
      "cell_type": "markdown",
      "metadata": {
        "id": "view-in-github",
        "colab_type": "text"
      },
      "source": [
        "<a href=\"https://colab.research.google.com/github/AlvaroMartinez87/creating-a-pipeline-in-blue-ocean/blob/master/PyCuda.ipynb\" target=\"_parent\"><img src=\"https://colab.research.google.com/assets/colab-badge.svg\" alt=\"Open In Colab\"/></a>"
      ]
    },
    {
      "cell_type": "markdown",
      "metadata": {
        "id": "tbfufYpkznwM"
      },
      "source": [
        "# **Ejemplo de PyCuda**"
      ]
    },
    {
      "cell_type": "markdown",
      "metadata": {
        "id": "M0_J3iWh05AB"
      },
      "source": [
        "## **Instalación**\n",
        "NOTA: En Google Colab, el entorno de ejecución tiene que disponer de una GPU\n"
      ]
    },
    {
      "cell_type": "code",
      "metadata": {
        "id": "ZWKmMS7K1LwJ",
        "outputId": "ca8135a5-4220-464b-8f85-66ffcdbf6992",
        "colab": {
          "base_uri": "https://localhost:8080/"
        }
      },
      "source": [
        "!pip install pycuda"
      ],
      "execution_count": 1,
      "outputs": [
        {
          "output_type": "stream",
          "name": "stdout",
          "text": [
            "Looking in indexes: https://pypi.org/simple, https://us-python.pkg.dev/colab-wheels/public/simple/\n",
            "Collecting pycuda\n",
            "  Downloading pycuda-2021.1.tar.gz (1.7 MB)\n",
            "\u001b[K     |████████████████████████████████| 1.7 MB 5.1 MB/s \n",
            "\u001b[?25h  Installing build dependencies ... \u001b[?25l\u001b[?25hdone\n",
            "  Getting requirements to build wheel ... \u001b[?25l\u001b[?25hdone\n",
            "    Preparing wheel metadata ... \u001b[?25l\u001b[?25hdone\n",
            "Collecting pytools>=2011.2\n",
            "  Downloading pytools-2022.1.9.tar.gz (69 kB)\n",
            "\u001b[K     |████████████████████████████████| 69 kB 8.8 MB/s \n",
            "\u001b[?25hRequirement already satisfied: appdirs>=1.4.0 in /usr/local/lib/python3.7/dist-packages (from pycuda) (1.4.4)\n",
            "Collecting mako\n",
            "  Downloading Mako-1.2.0-py3-none-any.whl (78 kB)\n",
            "\u001b[K     |████████████████████████████████| 78 kB 8.7 MB/s \n",
            "\u001b[?25hCollecting platformdirs>=2.2.0\n",
            "  Downloading platformdirs-2.5.2-py3-none-any.whl (14 kB)\n",
            "Requirement already satisfied: typing_extensions>=4.0 in /usr/local/lib/python3.7/dist-packages (from pytools>=2011.2->pycuda) (4.2.0)\n",
            "Requirement already satisfied: importlib-metadata in /usr/local/lib/python3.7/dist-packages (from mako->pycuda) (4.11.4)\n",
            "Requirement already satisfied: MarkupSafe>=0.9.2 in /usr/local/lib/python3.7/dist-packages (from mako->pycuda) (2.0.1)\n",
            "Requirement already satisfied: zipp>=0.5 in /usr/local/lib/python3.7/dist-packages (from importlib-metadata->mako->pycuda) (3.8.0)\n",
            "Building wheels for collected packages: pycuda, pytools\n",
            "  Building wheel for pycuda (PEP 517) ... \u001b[?25l\u001b[?25hdone\n",
            "  Created wheel for pycuda: filename=pycuda-2021.1-cp37-cp37m-linux_x86_64.whl size=626634 sha256=5d080dc94de9c812d3367cadf5c37c1e1dfb3698157d61ed22c4fa48b748a9c4\n",
            "  Stored in directory: /root/.cache/pip/wheels/c4/ef/49/dc6a5feb8d980b37c83d465ecab24949a6aa19458522a9e001\n",
            "  Building wheel for pytools (setup.py) ... \u001b[?25l\u001b[?25hdone\n",
            "  Created wheel for pytools: filename=pytools-2022.1.9-py2.py3-none-any.whl size=64666 sha256=f42fe7f92a1a0aecbb7de6eb0f23b234de1944eca9f25c2a24790fbb7013b0a0\n",
            "  Stored in directory: /root/.cache/pip/wheels/11/d8/85/01a8cf50977badf2da880865124b159b112b861655a9b631d3\n",
            "Successfully built pycuda pytools\n",
            "Installing collected packages: platformdirs, pytools, mako, pycuda\n",
            "Successfully installed mako-1.2.0 platformdirs-2.5.2 pycuda-2021.1 pytools-2022.1.9\n"
          ]
        }
      ]
    },
    {
      "cell_type": "markdown",
      "metadata": {
        "id": "VdFHFNBsydyE"
      },
      "source": [
        "Importar y inicializar PyCuda:"
      ]
    },
    {
      "cell_type": "code",
      "metadata": {
        "id": "5z1TQ4ByyT18"
      },
      "source": [
        "import pycuda.driver as cuda\n",
        "import pycuda.autoinit\n",
        "from pycuda.compiler import SourceModule"
      ],
      "execution_count": 2,
      "outputs": []
    },
    {
      "cell_type": "markdown",
      "source": [
        "## **Transferir datos**\n",
        "\n",
        "Creamos primero un array numpy de números aleatorios 4x4:\n"
      ],
      "metadata": {
        "id": "XNqRH_Cu1eZZ"
      }
    },
    {
      "cell_type": "code",
      "metadata": {
        "id": "d69oQcYNyhZj"
      },
      "source": [
        "import numpy\n",
        "A = numpy.random.randn(4,4)"
      ],
      "execution_count": 3,
      "outputs": []
    },
    {
      "cell_type": "markdown",
      "source": [
        "El array `A` está compuesto por valores de doble precisión (float64). Como la mayoría de las GPU sólo soportan simple precisión, vamos a convertir los valores de `A` en float32"
      ],
      "metadata": {
        "id": "y6TtxiCz29Vf"
      }
    },
    {
      "cell_type": "code",
      "source": [
        "A = A.astype(numpy.float32)"
      ],
      "metadata": {
        "id": "-VIoKP4hxR2Y"
      },
      "execution_count": 4,
      "outputs": []
    },
    {
      "cell_type": "markdown",
      "metadata": {
        "id": "fP9rFOgYy4qS"
      },
      "source": [
        " Reservamos memoria en la GPU"
      ]
    },
    {
      "cell_type": "code",
      "metadata": {
        "id": "0SW6JnvTy4_q"
      },
      "source": [
        "A_gpu = cuda.mem_alloc(A.nbytes)"
      ],
      "execution_count": 5,
      "outputs": []
    },
    {
      "cell_type": "markdown",
      "metadata": {
        "id": "PLbXa_bdzBJr"
      },
      "source": [
        " Tranferimos los datos del *host* al *device* (GPU)"
      ]
    },
    {
      "cell_type": "code",
      "metadata": {
        "id": "YDhefi1fzBwz"
      },
      "source": [
        "cuda.memcpy_htod(A_gpu, A)"
      ],
      "execution_count": 6,
      "outputs": []
    },
    {
      "cell_type": "markdown",
      "metadata": {
        "id": "dy70d3WAz3sS"
      },
      "source": [
        "# **Ejecutado el Kernel**\n",
        "\n",
        "La función kernel simplemente va a duplicar el valor de cada elemento del array. Tenemos que escribir el código CUDA C del kernel en el constructor de `pycuda.compiler.SourceModule`:"
      ]
    },
    {
      "cell_type": "code",
      "metadata": {
        "id": "kT7ViDIOz3_j"
      },
      "source": [
        "mod = SourceModule(\"\"\"\n",
        "  __global__ void duplicar(float *A)\n",
        "  {\n",
        "    int idx = threadIdx.x + threadIdx.y*4;\n",
        "    A[idx] *= 2;\n",
        "  }\n",
        "  \"\"\")"
      ],
      "execution_count": 7,
      "outputs": []
    },
    {
      "cell_type": "markdown",
      "metadata": {
        "id": "BFMIEn1U0Dr6"
      },
      "source": [
        "Si no hay errores, el código se compila y se carga en la GPU. Encontramos una referencia a nuestra función en `pycuda.driver.Function`. Y la llamamos, pasando `A_gpu` como primer argumento, y un bloque de tamaño *4x4* como segundo:"
      ]
    },
    {
      "cell_type": "code",
      "metadata": {
        "id": "-zQnYI0K0Pe7"
      },
      "source": [
        "func_duplicar = mod.get_function(\"duplicar\")\n",
        "func_duplicar(A_gpu, block=(4,4,1))"
      ],
      "execution_count": 8,
      "outputs": []
    },
    {
      "cell_type": "markdown",
      "metadata": {
        "id": "PEyK3AcC0Qqr"
      },
      "source": [
        "Finalmente, transferimos los datos del *device* al *host* y mostramos el resultado junto con los valores originales:"
      ]
    },
    {
      "cell_type": "code",
      "metadata": {
        "id": "8W9fvsF80Rej",
        "outputId": "ae1a5976-dd61-4fb2-b421-6c714c5a0433",
        "colab": {
          "base_uri": "https://localhost:8080/"
        }
      },
      "source": [
        "A_doble = numpy.empty_like(A)\n",
        "cuda.memcpy_dtoh(A_doble, A_gpu)\n",
        "print(A_doble)\n",
        "print()\n",
        "print(A)"
      ],
      "execution_count": 9,
      "outputs": [
        {
          "output_type": "stream",
          "name": "stdout",
          "text": [
            "[[-0.27930433  3.1280973   1.3525409  -0.55110455]\n",
            " [-0.16594541  0.66767275 -0.32070175 -0.2876671 ]\n",
            " [ 1.8403378   1.3806794   0.9448152   0.7676457 ]\n",
            " [-3.9800985   0.8526725  -0.05736419  0.2632798 ]]\n",
            "\n",
            "[[-0.13965216  1.5640486   0.6762704  -0.27555227]\n",
            " [-0.08297271  0.33383638 -0.16035087 -0.14383355]\n",
            " [ 0.9201689   0.6903397   0.4724076   0.38382286]\n",
            " [-1.9900492   0.42633626 -0.02868209  0.1316399 ]]\n"
          ]
        }
      ]
    }
  ]
}